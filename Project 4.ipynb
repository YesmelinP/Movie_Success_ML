{
 "cells": [
  {
   "cell_type": "code",
   "execution_count": 1,
   "id": "eb4b8fdc-d6f0-47ff-bfed-d4ae429f355d",
   "metadata": {},
   "outputs": [],
   "source": [
    "# Dependencies\n",
    "import requests\n",
    "import json\n",
    "from private_info.config import omdb_api_key, watchmode_api_key\n",
    "import pandas as pd\n",
    "from pprint import pprint\n",
    "\n",
    "omdb_url = f'http://www.omdbapi.com/?i=tt3896198&apikey=faa024e5'\n",
    "watchmode_url = 'https://api.watchmode.com/v1/sources/?apiKey=watchmode_api_key'\n"
   ]
  },
  {
   "cell_type": "code",
   "execution_count": 2,
   "id": "3d4ee809",
   "metadata": {},
   "outputs": [],
   "source": [
    "# Loop through a list of movies\n",
    "movies = ['Batman']\n",
    "\n",
    "for movie in movies:\n",
    "  # Define the API url\n",
    "  url = \"http://www.omdbapi.com/?t=\" + movie + \"&apikey=\" + omdb_api_key\n",
    "\n",
    "  # Get the response\n",
    "  response = requests.get(url)\n",
    "  \n",
    "    # Convert the response to json\n",
    "  data = response.json()"
   ]
  },
  {
   "cell_type": "code",
   "execution_count": 3,
   "id": "2fafe9fa",
   "metadata": {},
   "outputs": [
    {
     "name": "stdout",
     "output_type": "stream",
     "text": [
      "{'Actors': 'Michael Keaton, Jack Nicholson, Kim Basinger',\n",
      " 'Awards': 'Won 1 Oscar. 11 wins & 28 nominations total',\n",
      " 'BoxOffice': '$251,409,241',\n",
      " 'Country': 'United States, United Kingdom',\n",
      " 'DVD': 'N/A',\n",
      " 'Director': 'Tim Burton',\n",
      " 'Genre': 'Action, Adventure',\n",
      " 'Language': 'English, French, Spanish',\n",
      " 'Metascore': '69',\n",
      " 'Plot': 'The Dark Knight of Gotham City begins his war on crime with his '\n",
      "         'first major enemy being Jack Napier, a criminal who becomes the '\n",
      "         'clownishly homicidal Joker.',\n",
      " 'Poster': 'https://m.media-amazon.com/images/M/MV5BZWQ0OTQ3ODctMmE0MS00ODc2LTg0ZTEtZWIwNTUxOGExZTQ4XkEyXkFqcGdeQXVyNzAwMjU2MTY@._V1_SX300.jpg',\n",
      " 'Production': 'N/A',\n",
      " 'Rated': 'PG-13',\n",
      " 'Ratings': [{'Source': 'Internet Movie Database', 'Value': '7.5/10'},\n",
      "             {'Source': 'Rotten Tomatoes', 'Value': '77%'},\n",
      "             {'Source': 'Metacritic', 'Value': '69/100'}],\n",
      " 'Released': '23 Jun 1989',\n",
      " 'Response': 'True',\n",
      " 'Runtime': '126 min',\n",
      " 'Title': 'Batman',\n",
      " 'Type': 'movie',\n",
      " 'Website': 'N/A',\n",
      " 'Writer': 'Bob Kane, Sam Hamm, Warren Skaaren',\n",
      " 'Year': '1989',\n",
      " 'imdbID': 'tt0096895',\n",
      " 'imdbRating': '7.5',\n",
      " 'imdbVotes': '408,851'}\n"
     ]
    }
   ],
   "source": [
    "pprint(data)"
   ]
  },
  {
   "cell_type": "code",
   "execution_count": 5,
   "id": "2db2943b",
   "metadata": {},
   "outputs": [
    {
     "name": "stdout",
     "output_type": "stream",
     "text": [
      "http://www.omdbapi.com/?t=Batman&apikey=faa024e5?t=Batman&apikey=faa024e5?t=The Shawshank Redemption&apikey=faa024e5?t=The Dark Knight&apikey=faa024e5?t=Inception&apikey=faa024e5?t=Interstellar&apikey=faa024e5Batmanfaa024e5\n"
     ]
    }
   ],
   "source": [
    "print(url + \"Batman\" + omdb_api_key) "
   ]
  },
  {
   "cell_type": "code",
   "execution_count": 10,
   "id": "1a470a14",
   "metadata": {},
   "outputs": [
    {
     "name": "stdout",
     "output_type": "stream",
     "text": [
      "Error fetching data for Batman\n",
      "Error fetching data for The Shawshank Redemption\n",
      "Error fetching data for The Godfather\n"
     ]
    }
   ],
   "source": [
    "# List of movies to search\n",
    "movies = [\"Batman\", \"The Shawshank Redemption\", \"The Godfather\"]\n",
    "\n",
    "for movie in movies:\n",
    "  # Construct the API URL\n",
    "  url = f\"{url}?t={movie}&apikey={omdb_api_key}\"\n",
    "\n",
    "  # Make the API request\n",
    "  response = requests.get(url)\n",
    "\n",
    "  # Check for successful response\n",
    "  if response.status_code == 200:\n",
    "    # Parse the JSON data\n",
    "    data = response.json()\n",
    "\n",
    "    # Print the movie title and actors\n",
    "    print(f\"Movie Title: {data['Title']}\")\n",
    "    print(f\"Actors: {data['Actors']}\")\n",
    "    print(\"-\" * 20)  # Separator\n",
    "  else:\n",
    "    print(f\"Error fetching data for {movie}\")"
   ]
  },
  {
   "cell_type": "code",
   "execution_count": 9,
   "id": "dcd88f4b",
   "metadata": {},
   "outputs": [
    {
     "name": "stdout",
     "output_type": "stream",
     "text": [
      "Error fetching data for Batman\n"
     ]
    }
   ],
   "source": [
    "# List of movies to fetch data for\n",
    "movies = [\"Batman\"]\n",
    "\n",
    "# Loop through the movies and fetch data for each one\n",
    "for movie in movies:\n",
    "    url = url + \"?t=\" + movie + \"&apikey=\" + omdb_api_key\n",
    "    response = requests.get(url)\n",
    "    \n",
    "    if response.status_code == 200:\n",
    "        data = response.json()\n",
    "        print(f\"Movie: {movie}\")\n",
    "        print(f\"Title: {data['Title']}\")\n",
    "        print(f\"Year: {data['Year']}\")\n",
    "        print(f\"Director: {data['Director']}\")\n",
    "        print(f\"Actors: {data['Actors']}\")\n",
    "        print(\"-\" * 20)\n",
    "    else:\n",
    "        print(f\"Error fetching data for {movie}\")"
   ]
  },
  {
   "cell_type": "code",
   "execution_count": 8,
   "id": "f2664e26",
   "metadata": {},
   "outputs": [
    {
     "name": "stdout",
     "output_type": "stream",
     "text": [
      "{'Actors': 'Michael Keaton, Jack Nicholson, Kim Basinger',\n",
      " 'Awards': 'Won 1 Oscar. 11 wins & 28 nominations total',\n",
      " 'BoxOffice': '$251,409,241',\n",
      " 'Country': 'United States, United Kingdom',\n",
      " 'DVD': 'N/A',\n",
      " 'Director': 'Tim Burton',\n",
      " 'Genre': 'Action, Adventure',\n",
      " 'Language': 'English, French, Spanish',\n",
      " 'Metascore': '69',\n",
      " 'Plot': 'The Dark Knight of Gotham City begins his war on crime with his '\n",
      "         'first major enemy being Jack Napier, a criminal who becomes the '\n",
      "         'clownishly homicidal Joker.',\n",
      " 'Poster': 'https://m.media-amazon.com/images/M/MV5BZWQ0OTQ3ODctMmE0MS00ODc2LTg0ZTEtZWIwNTUxOGExZTQ4XkEyXkFqcGdeQXVyNzAwMjU2MTY@._V1_SX300.jpg',\n",
      " 'Production': 'N/A',\n",
      " 'Rated': 'PG-13',\n",
      " 'Ratings': [{'Source': 'Internet Movie Database', 'Value': '7.5/10'},\n",
      "             {'Source': 'Rotten Tomatoes', 'Value': '77%'},\n",
      "             {'Source': 'Metacritic', 'Value': '69/100'}],\n",
      " 'Released': '23 Jun 1989',\n",
      " 'Response': 'True',\n",
      " 'Runtime': '126 min',\n",
      " 'Title': 'Batman',\n",
      " 'Type': 'movie',\n",
      " 'Website': 'N/A',\n",
      " 'Writer': 'Bob Kane, Sam Hamm, Warren Skaaren',\n",
      " 'Year': '1989',\n",
      " 'imdbID': 'tt0096895',\n",
      " 'imdbRating': '7.5',\n",
      " 'imdbVotes': '408,851'}\n"
     ]
    }
   ],
   "source": [
    "# data = response.json()\n",
    "# pprint(data)"
   ]
  }
 ],
 "metadata": {
  "kernelspec": {
   "display_name": "Python 3 (ipykernel)",
   "language": "python",
   "name": "python3"
  },
  "language_info": {
   "codemirror_mode": {
    "name": "ipython",
    "version": 3
   },
   "file_extension": ".py",
   "mimetype": "text/x-python",
   "name": "python",
   "nbconvert_exporter": "python",
   "pygments_lexer": "ipython3",
   "version": "3.10.14"
  }
 },
 "nbformat": 4,
 "nbformat_minor": 5
}
